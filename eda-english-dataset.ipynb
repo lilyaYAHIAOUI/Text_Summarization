{
 "cells": [
  {
   "cell_type": "code",
   "execution_count": 1,
   "id": "0ca8c6fb",
   "metadata": {
    "execution": {
     "iopub.execute_input": "2022-10-31T22:56:13.375291Z",
     "iopub.status.busy": "2022-10-31T22:56:13.374078Z",
     "iopub.status.idle": "2022-10-31T22:56:28.481375Z",
     "shell.execute_reply": "2022-10-31T22:56:28.480228Z"
    },
    "papermill": {
     "duration": 15.117792,
     "end_time": "2022-10-31T22:56:28.484357",
     "exception": false,
     "start_time": "2022-10-31T22:56:13.366565",
     "status": "completed"
    },
    "tags": []
   },
   "outputs": [
    {
     "name": "stdout",
     "output_type": "stream",
     "text": [
      "Collecting gensim==3.8.3\r\n",
      "  Downloading gensim-3.8.3-cp37-cp37m-manylinux1_x86_64.whl (24.2 MB)\r\n",
      "\u001b[2K     \u001b[90m━━━━━━━━━━━━━━━━━━━━━━━━━━━━━━━━━━━━━━━━\u001b[0m \u001b[32m24.2/24.2 MB\u001b[0m \u001b[31m39.9 MB/s\u001b[0m eta \u001b[36m0:00:00\u001b[0m\r\n",
      "\u001b[?25hRequirement already satisfied: scipy>=0.18.1 in /opt/conda/lib/python3.7/site-packages (from gensim==3.8.3) (1.7.3)\r\n",
      "Requirement already satisfied: six>=1.5.0 in /opt/conda/lib/python3.7/site-packages (from gensim==3.8.3) (1.15.0)\r\n",
      "Requirement already satisfied: numpy>=1.11.3 in /opt/conda/lib/python3.7/site-packages (from gensim==3.8.3) (1.21.6)\r\n",
      "Requirement already satisfied: smart-open>=1.8.1 in /opt/conda/lib/python3.7/site-packages (from gensim==3.8.3) (5.2.1)\r\n",
      "Installing collected packages: gensim\r\n",
      "  Attempting uninstall: gensim\r\n",
      "    Found existing installation: gensim 4.0.1\r\n",
      "    Uninstalling gensim-4.0.1:\r\n",
      "      Successfully uninstalled gensim-4.0.1\r\n",
      "\u001b[31mERROR: pip's dependency resolver does not currently take into account all the packages that are installed. This behaviour is the source of the following dependency conflicts.\r\n",
      "scattertext 0.1.7 requires gensim>=4.0.0, but you have gensim 3.8.3 which is incompatible.\u001b[0m\u001b[31m\r\n",
      "\u001b[0mSuccessfully installed gensim-3.8.3\r\n",
      "\u001b[33mWARNING: Running pip as the 'root' user can result in broken permissions and conflicting behaviour with the system package manager. It is recommended to use a virtual environment instead: https://pip.pypa.io/warnings/venv\u001b[0m\u001b[33m\r\n",
      "\u001b[0m"
     ]
    }
   ],
   "source": [
    "!pip install gensim==3.8.3"
   ]
  },
  {
   "cell_type": "code",
   "execution_count": 2,
   "id": "2f3d825f",
   "metadata": {
    "execution": {
     "iopub.execute_input": "2022-10-31T22:56:28.499424Z",
     "iopub.status.busy": "2022-10-31T22:56:28.498205Z",
     "iopub.status.idle": "2022-10-31T22:56:30.446711Z",
     "shell.execute_reply": "2022-10-31T22:56:30.444858Z"
    },
    "papermill": {
     "duration": 1.958646,
     "end_time": "2022-10-31T22:56:30.449464",
     "exception": false,
     "start_time": "2022-10-31T22:56:28.490818",
     "status": "completed"
    },
    "tags": []
   },
   "outputs": [
    {
     "name": "stderr",
     "output_type": "stream",
     "text": [
      "[nltk_data] Downloading package punkt to /usr/share/nltk_data...\n",
      "[nltk_data]   Package punkt is already up-to-date!\n",
      "[nltk_data] Downloading package stopwords to /usr/share/nltk_data...\n",
      "[nltk_data]   Package stopwords is already up-to-date!\n"
     ]
    },
    {
     "data": {
      "text/plain": [
       "True"
      ]
     },
     "execution_count": 2,
     "metadata": {},
     "output_type": "execute_result"
    }
   ],
   "source": [
    "import pandas as pd\n",
    "from nltk.tokenize import sent_tokenize\n",
    "from wordcloud import WordCloud, ImageColorGenerator\n",
    "from gensim.summarization.textcleaner import split_sentences\n",
    "import nltk\n",
    "import string\n",
    "from nltk.probability import FreqDist\n",
    "from nltk.corpus import stopwords\n",
    "from nltk.tokenize import word_tokenize \n",
    "nltk.download('punkt')\n",
    "nltk.download('stopwords')"
   ]
  },
  {
   "cell_type": "markdown",
   "id": "925294c1",
   "metadata": {
    "papermill": {
     "duration": 0.005748,
     "end_time": "2022-10-31T22:56:30.461484",
     "exception": false,
     "start_time": "2022-10-31T22:56:30.455736",
     "status": "completed"
    },
    "tags": []
   },
   "source": [
    "# Load data"
   ]
  },
  {
   "cell_type": "code",
   "execution_count": 3,
   "id": "15e511ce",
   "metadata": {
    "execution": {
     "iopub.execute_input": "2022-10-31T22:56:30.475662Z",
     "iopub.status.busy": "2022-10-31T22:56:30.475028Z",
     "iopub.status.idle": "2022-10-31T22:57:13.542474Z",
     "shell.execute_reply": "2022-10-31T22:57:13.541173Z"
    },
    "papermill": {
     "duration": 43.077846,
     "end_time": "2022-10-31T22:57:13.545237",
     "exception": false,
     "start_time": "2022-10-31T22:56:30.467391",
     "status": "completed"
    },
    "tags": []
   },
   "outputs": [],
   "source": [
    "train_set = pd.read_excel(\"../input/summerization/Competition CERIST -- Summarization/Dataset 2 Arabic + English (XL_sum)/English/dataset_XL_sum_v1.0_train_en.xlsx\")\n",
    "test_set = pd.read_excel(\"../input/summerization/Competition CERIST -- Summarization/Dataset 2 Arabic + English (XL_sum)/English/dataset_XL_sum_v1.0_test_en.xlsx\")"
   ]
  },
  {
   "cell_type": "code",
   "execution_count": 4,
   "id": "d1847b53",
   "metadata": {
    "execution": {
     "iopub.execute_input": "2022-10-31T22:57:13.559386Z",
     "iopub.status.busy": "2022-10-31T22:57:13.558845Z",
     "iopub.status.idle": "2022-10-31T22:57:13.564438Z",
     "shell.execute_reply": "2022-10-31T22:57:13.563372Z"
    },
    "papermill": {
     "duration": 0.015343,
     "end_time": "2022-10-31T22:57:13.566836",
     "exception": false,
     "start_time": "2022-10-31T22:57:13.551493",
     "status": "completed"
    },
    "tags": []
   },
   "outputs": [
    {
     "name": "stdout",
     "output_type": "stream",
     "text": [
      "(304768, 2)\n",
      "(11529, 2)\n"
     ]
    }
   ],
   "source": [
    "print(train_set.shape)\n",
    "print(test_set.shape)"
   ]
  },
  {
   "cell_type": "code",
   "execution_count": 5,
   "id": "822a6c7e",
   "metadata": {
    "execution": {
     "iopub.execute_input": "2022-10-31T22:57:13.580127Z",
     "iopub.status.busy": "2022-10-31T22:57:13.579747Z",
     "iopub.status.idle": "2022-10-31T22:57:14.261528Z",
     "shell.execute_reply": "2022-10-31T22:57:14.260449Z"
    },
    "papermill": {
     "duration": 0.691243,
     "end_time": "2022-10-31T22:57:14.264055",
     "exception": false,
     "start_time": "2022-10-31T22:57:13.572812",
     "status": "completed"
    },
    "tags": []
   },
   "outputs": [
    {
     "data": {
      "text/html": [
       "<div>\n",
       "<style scoped>\n",
       "    .dataframe tbody tr th:only-of-type {\n",
       "        vertical-align: middle;\n",
       "    }\n",
       "\n",
       "    .dataframe tbody tr th {\n",
       "        vertical-align: top;\n",
       "    }\n",
       "\n",
       "    .dataframe thead th {\n",
       "        text-align: right;\n",
       "    }\n",
       "</style>\n",
       "<table border=\"1\" class=\"dataframe\">\n",
       "  <thead>\n",
       "    <tr style=\"text-align: right;\">\n",
       "      <th></th>\n",
       "      <th>Document</th>\n",
       "      <th>Summary</th>\n",
       "    </tr>\n",
       "  </thead>\n",
       "  <tbody>\n",
       "    <tr>\n",
       "      <th>count</th>\n",
       "      <td>304768</td>\n",
       "      <td>304768</td>\n",
       "    </tr>\n",
       "    <tr>\n",
       "      <th>unique</th>\n",
       "      <td>304739</td>\n",
       "      <td>304112</td>\n",
       "    </tr>\n",
       "    <tr>\n",
       "      <th>top</th>\n",
       "      <td>Please also ensure you follow current coronavi...</td>\n",
       "      <td>With the world's biggest bike race starting in...</td>\n",
       "    </tr>\n",
       "    <tr>\n",
       "      <th>freq</th>\n",
       "      <td>19</td>\n",
       "      <td>30</td>\n",
       "    </tr>\n",
       "  </tbody>\n",
       "</table>\n",
       "</div>"
      ],
      "text/plain": [
       "                                                 Document  \\\n",
       "count                                              304768   \n",
       "unique                                             304739   \n",
       "top     Please also ensure you follow current coronavi...   \n",
       "freq                                                   19   \n",
       "\n",
       "                                                  Summary  \n",
       "count                                              304768  \n",
       "unique                                             304112  \n",
       "top     With the world's biggest bike race starting in...  \n",
       "freq                                                   30  "
      ]
     },
     "execution_count": 5,
     "metadata": {},
     "output_type": "execute_result"
    }
   ],
   "source": [
    "train_set.describe()"
   ]
  },
  {
   "cell_type": "code",
   "execution_count": 6,
   "id": "09b52684",
   "metadata": {
    "execution": {
     "iopub.execute_input": "2022-10-31T22:57:14.278920Z",
     "iopub.status.busy": "2022-10-31T22:57:14.277847Z",
     "iopub.status.idle": "2022-10-31T22:57:14.304890Z",
     "shell.execute_reply": "2022-10-31T22:57:14.303869Z"
    },
    "papermill": {
     "duration": 0.037088,
     "end_time": "2022-10-31T22:57:14.307489",
     "exception": false,
     "start_time": "2022-10-31T22:57:14.270401",
     "status": "completed"
    },
    "tags": []
   },
   "outputs": [
    {
     "data": {
      "text/html": [
       "<div>\n",
       "<style scoped>\n",
       "    .dataframe tbody tr th:only-of-type {\n",
       "        vertical-align: middle;\n",
       "    }\n",
       "\n",
       "    .dataframe tbody tr th {\n",
       "        vertical-align: top;\n",
       "    }\n",
       "\n",
       "    .dataframe thead th {\n",
       "        text-align: right;\n",
       "    }\n",
       "</style>\n",
       "<table border=\"1\" class=\"dataframe\">\n",
       "  <thead>\n",
       "    <tr style=\"text-align: right;\">\n",
       "      <th></th>\n",
       "      <th>Document</th>\n",
       "      <th>Summary</th>\n",
       "    </tr>\n",
       "  </thead>\n",
       "  <tbody>\n",
       "    <tr>\n",
       "      <th>count</th>\n",
       "      <td>11529</td>\n",
       "      <td>11529</td>\n",
       "    </tr>\n",
       "    <tr>\n",
       "      <th>unique</th>\n",
       "      <td>11529</td>\n",
       "      <td>11521</td>\n",
       "    </tr>\n",
       "    <tr>\n",
       "      <th>top</th>\n",
       "      <td>But Eluned Morgan conceded that it would be \"d...</td>\n",
       "      <td>Here are five things you need to know about th...</td>\n",
       "    </tr>\n",
       "    <tr>\n",
       "      <th>freq</th>\n",
       "      <td>1</td>\n",
       "      <td>2</td>\n",
       "    </tr>\n",
       "  </tbody>\n",
       "</table>\n",
       "</div>"
      ],
      "text/plain": [
       "                                                 Document  \\\n",
       "count                                               11529   \n",
       "unique                                              11529   \n",
       "top     But Eluned Morgan conceded that it would be \"d...   \n",
       "freq                                                    1   \n",
       "\n",
       "                                                  Summary  \n",
       "count                                               11529  \n",
       "unique                                              11521  \n",
       "top     Here are five things you need to know about th...  \n",
       "freq                                                    2  "
      ]
     },
     "execution_count": 6,
     "metadata": {},
     "output_type": "execute_result"
    }
   ],
   "source": [
    "test_set.describe()"
   ]
  },
  {
   "cell_type": "markdown",
   "id": "0a711644",
   "metadata": {
    "papermill": {
     "duration": 0.007779,
     "end_time": "2022-10-31T22:57:14.321889",
     "exception": false,
     "start_time": "2022-10-31T22:57:14.314110",
     "status": "completed"
    },
    "tags": []
   },
   "source": [
    "# EDA"
   ]
  },
  {
   "cell_type": "markdown",
   "id": "61fb7958",
   "metadata": {
    "papermill": {
     "duration": 0.006141,
     "end_time": "2022-10-31T22:57:14.334438",
     "exception": false,
     "start_time": "2022-10-31T22:57:14.328297",
     "status": "completed"
    },
    "tags": []
   },
   "source": [
    "## some statistics "
   ]
  },
  {
   "cell_type": "code",
   "execution_count": 7,
   "id": "72bfe525",
   "metadata": {
    "execution": {
     "iopub.execute_input": "2022-10-31T22:57:14.349069Z",
     "iopub.status.busy": "2022-10-31T22:57:14.348692Z",
     "iopub.status.idle": "2022-10-31T22:58:28.090440Z",
     "shell.execute_reply": "2022-10-31T22:58:28.089174Z"
    },
    "papermill": {
     "duration": 73.752246,
     "end_time": "2022-10-31T22:58:28.093224",
     "exception": false,
     "start_time": "2022-10-31T22:57:14.340978",
     "status": "completed"
    },
    "tags": []
   },
   "outputs": [],
   "source": [
    "# the number of sentences in the Summary\n",
    "## TRAIN\n",
    "train_set['sum_sent_count'] = train_set['Summary'].apply(lambda x : len(split_sentences(x)))\n",
    "#  the number of sentences in the text\n",
    "train_set['text_sent_count'] = train_set['Document'].apply(lambda x : len(split_sentences(x)))\n",
    "\n",
    "## TEST\n",
    "# the number of sentences in the Summary\n",
    "test_set['sum_sent_count'] = test_set['Summary'].apply(lambda x : len(split_sentences(x)))\n",
    "#  the number of sentences in the text\n",
    "test_set['text_sent_count'] = test_set['Document'].apply(lambda x : len(split_sentences(x)))\n"
   ]
  },
  {
   "cell_type": "code",
   "execution_count": 8,
   "id": "681035a3",
   "metadata": {
    "execution": {
     "iopub.execute_input": "2022-10-31T22:58:28.107917Z",
     "iopub.status.busy": "2022-10-31T22:58:28.107518Z",
     "iopub.status.idle": "2022-10-31T22:58:37.024395Z",
     "shell.execute_reply": "2022-10-31T22:58:37.023398Z"
    },
    "papermill": {
     "duration": 8.927082,
     "end_time": "2022-10-31T22:58:37.027004",
     "exception": false,
     "start_time": "2022-10-31T22:58:28.099922",
     "status": "completed"
    },
    "tags": []
   },
   "outputs": [],
   "source": [
    "## TRAIN\n",
    "# the number of word in the summary\n",
    "train_set['sum_word_count'] = train_set['Summary'].apply(lambda x : len(x.split()))\n",
    "# the number of word in the text\n",
    "train_set['text_word_count'] = train_set['Document'].apply(lambda x : len(x.split()))\n",
    "\n",
    "## TEST\n",
    "test_set['sum_word_count'] = test_set['Summary'].apply(lambda x : len(x.split()))\n",
    "# the number of word in the text\n",
    "test_set['text_word_count'] = test_set['Document'].apply(lambda x : len(x.split()))"
   ]
  },
  {
   "cell_type": "code",
   "execution_count": 9,
   "id": "a612cd99",
   "metadata": {
    "execution": {
     "iopub.execute_input": "2022-10-31T22:58:37.041569Z",
     "iopub.status.busy": "2022-10-31T22:58:37.041192Z",
     "iopub.status.idle": "2022-10-31T22:58:44.555668Z",
     "shell.execute_reply": "2022-10-31T22:58:44.554382Z"
    },
    "papermill": {
     "duration": 7.524898,
     "end_time": "2022-10-31T22:58:44.558468",
     "exception": false,
     "start_time": "2022-10-31T22:58:37.033570",
     "status": "completed"
    },
    "tags": []
   },
   "outputs": [],
   "source": [
    "## TRAIN\n",
    "# the number of characters in the summary\n",
    "train_set['sum_char_count'] = train_set['Summary'].apply(lambda x : len(x.replace(\" \",\"\")))\n",
    "#the number of characters in the text\n",
    "train_set['text_char_count'] = train_set['Document'].apply(lambda x : len(x.replace(\" \",\"\")))\n",
    "\n",
    "## TEST\n",
    "# the number of characters in the summary\n",
    "test_set['sum_char_count'] = test_set['Summary'].apply(lambda x : len(x.replace(\" \",\"\")))\n",
    "#the number of characters in the text\n",
    "test_set['text_char_count'] = test_set['Document'].apply(lambda x : len(x.replace(\" \",\"\")))"
   ]
  },
  {
   "cell_type": "code",
   "execution_count": 10,
   "id": "35e46e95",
   "metadata": {
    "execution": {
     "iopub.execute_input": "2022-10-31T22:58:44.573628Z",
     "iopub.status.busy": "2022-10-31T22:58:44.573246Z",
     "iopub.status.idle": "2022-10-31T22:58:44.588333Z",
     "shell.execute_reply": "2022-10-31T22:58:44.587267Z"
    },
    "papermill": {
     "duration": 0.025491,
     "end_time": "2022-10-31T22:58:44.590882",
     "exception": false,
     "start_time": "2022-10-31T22:58:44.565391",
     "status": "completed"
    },
    "tags": []
   },
   "outputs": [],
   "source": [
    "## TRAIN\n",
    "# the density of words in the summary\n",
    "train_set['sum_word_density'] = train_set['sum_word_count'] / (train_set['sum_char_count'] + 1)\n",
    "#  the density of words in the text\n",
    "train_set['text_word_density'] = train_set['text_word_count'] / (train_set['text_char_count'] + 1)\n",
    "\n",
    "## TEST\n",
    "# the density of words in the summary\n",
    "test_set['sum_word_density'] = test_set['sum_word_count'] / (test_set['sum_char_count'] + 1)\n",
    "#  the density of words in the text\n",
    "test_set['text_word_density'] = test_set['text_word_count'] / (test_set['text_char_count'] + 1)\n"
   ]
  },
  {
   "cell_type": "code",
   "execution_count": 11,
   "id": "8b76a2ca",
   "metadata": {
    "execution": {
     "iopub.execute_input": "2022-10-31T22:58:44.606701Z",
     "iopub.status.busy": "2022-10-31T22:58:44.605607Z",
     "iopub.status.idle": "2022-10-31T22:58:44.620352Z",
     "shell.execute_reply": "2022-10-31T22:58:44.619215Z"
    },
    "papermill": {
     "duration": 0.025047,
     "end_time": "2022-10-31T22:58:44.622994",
     "exception": false,
     "start_time": "2022-10-31T22:58:44.597947",
     "status": "completed"
    },
    "tags": []
   },
   "outputs": [],
   "source": [
    "## TRAIN\n",
    "# the density of sentences in the summary\n",
    "train_set['sum_sent_density'] = train_set['sum_sent_count'] / (train_set['sum_word_count'] + 1)\n",
    "# the density of sentences in the text\n",
    "train_set['text_sent_density'] = train_set['text_sent_count'] / (train_set['text_word_count'] + 1)\n",
    "\n",
    "\n",
    "## TEST\n",
    "# the density of sentences in the summary\n",
    "test_set['sum_sent_density'] = test_set['sum_sent_count'] / (test_set['sum_word_count'] + 1)\n",
    "# the density of sentences in the text\n",
    "test_set['text_sent_density'] = test_set['text_sent_count'] / (test_set['text_word_count'] + 1)\n"
   ]
  },
  {
   "cell_type": "code",
   "execution_count": 12,
   "id": "ec56cff4",
   "metadata": {
    "execution": {
     "iopub.execute_input": "2022-10-31T22:58:44.637647Z",
     "iopub.status.busy": "2022-10-31T22:58:44.637273Z",
     "iopub.status.idle": "2022-10-31T22:58:44.645134Z",
     "shell.execute_reply": "2022-10-31T22:58:44.644208Z"
    },
    "papermill": {
     "duration": 0.017987,
     "end_time": "2022-10-31T22:58:44.647653",
     "exception": false,
     "start_time": "2022-10-31T22:58:44.629666",
     "status": "completed"
    },
    "tags": []
   },
   "outputs": [],
   "source": [
    "def count_stopwords(text):\n",
    "    ''' Return the number of stopwords in the text\n",
    "        Input:\n",
    "            - text: string\n",
    "            - stopwords: list of string, containing the stopwords\n",
    "        Output:\n",
    "            - int, number of stopwords in the text argument\n",
    "    '''\n",
    "    word_tokens =nltk.word_tokenize(text)\n",
    "    stopwords_x = [w for w in word_tokens if w in  set(stopwords.words('english'))]\n",
    "    \n",
    "    return len(stopwords_x)"
   ]
  },
  {
   "cell_type": "code",
   "execution_count": 13,
   "id": "fc433c5e",
   "metadata": {
    "execution": {
     "iopub.execute_input": "2022-10-31T22:58:44.663330Z",
     "iopub.status.busy": "2022-10-31T22:58:44.662510Z",
     "iopub.status.idle": "2022-10-31T23:00:05.059817Z",
     "shell.execute_reply": "2022-10-31T23:00:05.058509Z"
    },
    "papermill": {
     "duration": 80.408597,
     "end_time": "2022-10-31T23:00:05.062998",
     "exception": false,
     "start_time": "2022-10-31T22:58:44.654401",
     "status": "completed"
    },
    "tags": []
   },
   "outputs": [],
   "source": [
    "## TRAIN\n",
    "# the number of punctuations in the summary\n",
    "train_set['sum_punc_count'] = train_set['Summary'].apply(lambda x : len([a for a in x if a in string.punctuation]))\n",
    "# the number of punctuations in the text\n",
    "train_set['text_punc_count'] = train_set['Document'].apply(lambda x : len([a for a in x if a in string.punctuation]))\n",
    "\n",
    "## TEST\n",
    "# the number of punctuations in the summary\n",
    "test_set['sum_punc_count'] = test_set['Summary'].apply(lambda x : len([a for a in x if a in string.punctuation]))\n",
    "# the number of punctuations in the text\n",
    "test_set['text_punc_count'] = test_set['Document'].apply(lambda x : len([a for a in x if a in string.punctuation]))\n"
   ]
  },
  {
   "cell_type": "code",
   "execution_count": 14,
   "id": "8462ec7b",
   "metadata": {
    "execution": {
     "iopub.execute_input": "2022-10-31T23:00:05.078949Z",
     "iopub.status.busy": "2022-10-31T23:00:05.077812Z",
     "iopub.status.idle": "2022-10-31T23:00:05.277124Z",
     "shell.execute_reply": "2022-10-31T23:00:05.275985Z"
    },
    "papermill": {
     "duration": 0.209449,
     "end_time": "2022-10-31T23:00:05.279392",
     "exception": false,
     "start_time": "2022-10-31T23:00:05.069943",
     "status": "completed"
    },
    "tags": []
   },
   "outputs": [
    {
     "data": {
      "text/html": [
       "<div>\n",
       "<style scoped>\n",
       "    .dataframe tbody tr th:only-of-type {\n",
       "        vertical-align: middle;\n",
       "    }\n",
       "\n",
       "    .dataframe tbody tr th {\n",
       "        vertical-align: top;\n",
       "    }\n",
       "\n",
       "    .dataframe thead th {\n",
       "        text-align: right;\n",
       "    }\n",
       "</style>\n",
       "<table border=\"1\" class=\"dataframe\">\n",
       "  <thead>\n",
       "    <tr style=\"text-align: right;\">\n",
       "      <th></th>\n",
       "      <th>sum_sent_count</th>\n",
       "      <th>text_sent_count</th>\n",
       "      <th>sum_word_count</th>\n",
       "      <th>text_word_count</th>\n",
       "      <th>sum_char_count</th>\n",
       "      <th>text_char_count</th>\n",
       "      <th>sum_word_density</th>\n",
       "      <th>text_word_density</th>\n",
       "      <th>sum_sent_density</th>\n",
       "      <th>text_sent_density</th>\n",
       "      <th>sum_punc_count</th>\n",
       "      <th>text_punc_count</th>\n",
       "    </tr>\n",
       "  </thead>\n",
       "  <tbody>\n",
       "    <tr>\n",
       "      <th>count</th>\n",
       "      <td>304768.000000</td>\n",
       "      <td>304768.000000</td>\n",
       "      <td>304768.000000</td>\n",
       "      <td>304768.000000</td>\n",
       "      <td>304768.000000</td>\n",
       "      <td>304768.000000</td>\n",
       "      <td>304768.000000</td>\n",
       "      <td>304768.000000</td>\n",
       "      <td>304768.000000</td>\n",
       "      <td>304768.000000</td>\n",
       "      <td>304768.000000</td>\n",
       "      <td>304768.000000</td>\n",
       "    </tr>\n",
       "    <tr>\n",
       "      <th>mean</th>\n",
       "      <td>1.078939</td>\n",
       "      <td>20.416241</td>\n",
       "      <td>22.219797</td>\n",
       "      <td>459.682267</td>\n",
       "      <td>110.158983</td>\n",
       "      <td>2263.673624</td>\n",
       "      <td>0.200742</td>\n",
       "      <td>0.202349</td>\n",
       "      <td>0.048564</td>\n",
       "      <td>0.045193</td>\n",
       "      <td>2.773890</td>\n",
       "      <td>76.721303</td>\n",
       "    </tr>\n",
       "    <tr>\n",
       "      <th>std</th>\n",
       "      <td>0.347851</td>\n",
       "      <td>16.006447</td>\n",
       "      <td>7.230242</td>\n",
       "      <td>335.410688</td>\n",
       "      <td>35.059637</td>\n",
       "      <td>1621.047225</td>\n",
       "      <td>0.022767</td>\n",
       "      <td>0.010405</td>\n",
       "      <td>0.013695</td>\n",
       "      <td>0.008542</td>\n",
       "      <td>1.780912</td>\n",
       "      <td>60.081099</td>\n",
       "    </tr>\n",
       "    <tr>\n",
       "      <th>min</th>\n",
       "      <td>1.000000</td>\n",
       "      <td>1.000000</td>\n",
       "      <td>5.000000</td>\n",
       "      <td>32.000000</td>\n",
       "      <td>40.000000</td>\n",
       "      <td>169.000000</td>\n",
       "      <td>0.086207</td>\n",
       "      <td>0.118519</td>\n",
       "      <td>0.010870</td>\n",
       "      <td>0.000409</td>\n",
       "      <td>0.000000</td>\n",
       "      <td>0.000000</td>\n",
       "    </tr>\n",
       "    <tr>\n",
       "      <th>25%</th>\n",
       "      <td>1.000000</td>\n",
       "      <td>11.000000</td>\n",
       "      <td>18.000000</td>\n",
       "      <td>241.000000</td>\n",
       "      <td>89.000000</td>\n",
       "      <td>1192.000000</td>\n",
       "      <td>0.185185</td>\n",
       "      <td>0.195407</td>\n",
       "      <td>0.040000</td>\n",
       "      <td>0.039370</td>\n",
       "      <td>1.000000</td>\n",
       "      <td>38.000000</td>\n",
       "    </tr>\n",
       "    <tr>\n",
       "      <th>50%</th>\n",
       "      <td>1.000000</td>\n",
       "      <td>16.000000</td>\n",
       "      <td>21.000000</td>\n",
       "      <td>366.000000</td>\n",
       "      <td>107.000000</td>\n",
       "      <td>1814.000000</td>\n",
       "      <td>0.200000</td>\n",
       "      <td>0.201916</td>\n",
       "      <td>0.045455</td>\n",
       "      <td>0.044386</td>\n",
       "      <td>2.000000</td>\n",
       "      <td>61.000000</td>\n",
       "    </tr>\n",
       "    <tr>\n",
       "      <th>75%</th>\n",
       "      <td>1.000000</td>\n",
       "      <td>26.000000</td>\n",
       "      <td>25.000000</td>\n",
       "      <td>604.000000</td>\n",
       "      <td>122.000000</td>\n",
       "      <td>2981.000000</td>\n",
       "      <td>0.215190</td>\n",
       "      <td>0.208827</td>\n",
       "      <td>0.055556</td>\n",
       "      <td>0.050000</td>\n",
       "      <td>4.000000</td>\n",
       "      <td>100.000000</td>\n",
       "    </tr>\n",
       "    <tr>\n",
       "      <th>max</th>\n",
       "      <td>11.000000</td>\n",
       "      <td>529.000000</td>\n",
       "      <td>172.000000</td>\n",
       "      <td>6366.000000</td>\n",
       "      <td>797.000000</td>\n",
       "      <td>28130.000000</td>\n",
       "      <td>0.388889</td>\n",
       "      <td>0.271523</td>\n",
       "      <td>0.846154</td>\n",
       "      <td>0.335873</td>\n",
       "      <td>28.000000</td>\n",
       "      <td>1604.000000</td>\n",
       "    </tr>\n",
       "  </tbody>\n",
       "</table>\n",
       "</div>"
      ],
      "text/plain": [
       "       sum_sent_count  text_sent_count  sum_word_count  text_word_count  \\\n",
       "count   304768.000000    304768.000000   304768.000000    304768.000000   \n",
       "mean         1.078939        20.416241       22.219797       459.682267   \n",
       "std          0.347851        16.006447        7.230242       335.410688   \n",
       "min          1.000000         1.000000        5.000000        32.000000   \n",
       "25%          1.000000        11.000000       18.000000       241.000000   \n",
       "50%          1.000000        16.000000       21.000000       366.000000   \n",
       "75%          1.000000        26.000000       25.000000       604.000000   \n",
       "max         11.000000       529.000000      172.000000      6366.000000   \n",
       "\n",
       "       sum_char_count  text_char_count  sum_word_density  text_word_density  \\\n",
       "count   304768.000000    304768.000000     304768.000000      304768.000000   \n",
       "mean       110.158983      2263.673624          0.200742           0.202349   \n",
       "std         35.059637      1621.047225          0.022767           0.010405   \n",
       "min         40.000000       169.000000          0.086207           0.118519   \n",
       "25%         89.000000      1192.000000          0.185185           0.195407   \n",
       "50%        107.000000      1814.000000          0.200000           0.201916   \n",
       "75%        122.000000      2981.000000          0.215190           0.208827   \n",
       "max        797.000000     28130.000000          0.388889           0.271523   \n",
       "\n",
       "       sum_sent_density  text_sent_density  sum_punc_count  text_punc_count  \n",
       "count     304768.000000      304768.000000   304768.000000    304768.000000  \n",
       "mean           0.048564           0.045193        2.773890        76.721303  \n",
       "std            0.013695           0.008542        1.780912        60.081099  \n",
       "min            0.010870           0.000409        0.000000         0.000000  \n",
       "25%            0.040000           0.039370        1.000000        38.000000  \n",
       "50%            0.045455           0.044386        2.000000        61.000000  \n",
       "75%            0.055556           0.050000        4.000000       100.000000  \n",
       "max            0.846154           0.335873       28.000000      1604.000000  "
      ]
     },
     "execution_count": 14,
     "metadata": {},
     "output_type": "execute_result"
    }
   ],
   "source": [
    "train_set.describe()"
   ]
  },
  {
   "cell_type": "code",
   "execution_count": 15,
   "id": "8302c672",
   "metadata": {
    "execution": {
     "iopub.execute_input": "2022-10-31T23:00:05.294564Z",
     "iopub.status.busy": "2022-10-31T23:00:05.294185Z",
     "iopub.status.idle": "2022-10-31T23:00:05.343172Z",
     "shell.execute_reply": "2022-10-31T23:00:05.342169Z"
    },
    "papermill": {
     "duration": 0.059311,
     "end_time": "2022-10-31T23:00:05.345606",
     "exception": false,
     "start_time": "2022-10-31T23:00:05.286295",
     "status": "completed"
    },
    "tags": []
   },
   "outputs": [
    {
     "data": {
      "text/html": [
       "<div>\n",
       "<style scoped>\n",
       "    .dataframe tbody tr th:only-of-type {\n",
       "        vertical-align: middle;\n",
       "    }\n",
       "\n",
       "    .dataframe tbody tr th {\n",
       "        vertical-align: top;\n",
       "    }\n",
       "\n",
       "    .dataframe thead th {\n",
       "        text-align: right;\n",
       "    }\n",
       "</style>\n",
       "<table border=\"1\" class=\"dataframe\">\n",
       "  <thead>\n",
       "    <tr style=\"text-align: right;\">\n",
       "      <th></th>\n",
       "      <th>sum_sent_count</th>\n",
       "      <th>text_sent_count</th>\n",
       "      <th>sum_word_count</th>\n",
       "      <th>text_word_count</th>\n",
       "      <th>sum_char_count</th>\n",
       "      <th>text_char_count</th>\n",
       "      <th>sum_word_density</th>\n",
       "      <th>text_word_density</th>\n",
       "      <th>sum_sent_density</th>\n",
       "      <th>text_sent_density</th>\n",
       "      <th>sum_punc_count</th>\n",
       "      <th>text_punc_count</th>\n",
       "    </tr>\n",
       "  </thead>\n",
       "  <tbody>\n",
       "    <tr>\n",
       "      <th>count</th>\n",
       "      <td>11529.000000</td>\n",
       "      <td>11529.000000</td>\n",
       "      <td>11529.000000</td>\n",
       "      <td>11529.000000</td>\n",
       "      <td>11529.000000</td>\n",
       "      <td>11529.000000</td>\n",
       "      <td>11529.000000</td>\n",
       "      <td>11529.000000</td>\n",
       "      <td>11529.000000</td>\n",
       "      <td>11529.000000</td>\n",
       "      <td>11529.000000</td>\n",
       "      <td>11529.000000</td>\n",
       "    </tr>\n",
       "    <tr>\n",
       "      <th>mean</th>\n",
       "      <td>1.035736</td>\n",
       "      <td>19.218666</td>\n",
       "      <td>21.241651</td>\n",
       "      <td>437.198630</td>\n",
       "      <td>105.640298</td>\n",
       "      <td>2158.596669</td>\n",
       "      <td>0.200129</td>\n",
       "      <td>0.202112</td>\n",
       "      <td>0.048507</td>\n",
       "      <td>0.044634</td>\n",
       "      <td>2.629109</td>\n",
       "      <td>72.849163</td>\n",
       "    </tr>\n",
       "    <tr>\n",
       "      <th>std</th>\n",
       "      <td>0.203474</td>\n",
       "      <td>11.957447</td>\n",
       "      <td>4.753051</td>\n",
       "      <td>262.373004</td>\n",
       "      <td>22.933391</td>\n",
       "      <td>1279.351023</td>\n",
       "      <td>0.022786</td>\n",
       "      <td>0.010113</td>\n",
       "      <td>0.012770</td>\n",
       "      <td>0.007927</td>\n",
       "      <td>1.555699</td>\n",
       "      <td>46.497760</td>\n",
       "    </tr>\n",
       "    <tr>\n",
       "      <th>min</th>\n",
       "      <td>1.000000</td>\n",
       "      <td>2.000000</td>\n",
       "      <td>8.000000</td>\n",
       "      <td>61.000000</td>\n",
       "      <td>43.000000</td>\n",
       "      <td>290.000000</td>\n",
       "      <td>0.125000</td>\n",
       "      <td>0.145057</td>\n",
       "      <td>0.023810</td>\n",
       "      <td>0.003135</td>\n",
       "      <td>0.000000</td>\n",
       "      <td>4.000000</td>\n",
       "    </tr>\n",
       "    <tr>\n",
       "      <th>25%</th>\n",
       "      <td>1.000000</td>\n",
       "      <td>11.000000</td>\n",
       "      <td>18.000000</td>\n",
       "      <td>246.000000</td>\n",
       "      <td>89.000000</td>\n",
       "      <td>1221.000000</td>\n",
       "      <td>0.184211</td>\n",
       "      <td>0.195243</td>\n",
       "      <td>0.040000</td>\n",
       "      <td>0.039301</td>\n",
       "      <td>1.000000</td>\n",
       "      <td>40.000000</td>\n",
       "    </tr>\n",
       "    <tr>\n",
       "      <th>50%</th>\n",
       "      <td>1.000000</td>\n",
       "      <td>16.000000</td>\n",
       "      <td>21.000000</td>\n",
       "      <td>360.000000</td>\n",
       "      <td>106.000000</td>\n",
       "      <td>1783.000000</td>\n",
       "      <td>0.200000</td>\n",
       "      <td>0.201726</td>\n",
       "      <td>0.045455</td>\n",
       "      <td>0.043977</td>\n",
       "      <td>2.000000</td>\n",
       "      <td>60.000000</td>\n",
       "    </tr>\n",
       "    <tr>\n",
       "      <th>75%</th>\n",
       "      <td>1.000000</td>\n",
       "      <td>24.000000</td>\n",
       "      <td>24.000000</td>\n",
       "      <td>574.000000</td>\n",
       "      <td>121.000000</td>\n",
       "      <td>2828.000000</td>\n",
       "      <td>0.214815</td>\n",
       "      <td>0.208381</td>\n",
       "      <td>0.055556</td>\n",
       "      <td>0.049296</td>\n",
       "      <td>3.000000</td>\n",
       "      <td>94.000000</td>\n",
       "    </tr>\n",
       "    <tr>\n",
       "      <th>max</th>\n",
       "      <td>5.000000</td>\n",
       "      <td>113.000000</td>\n",
       "      <td>42.000000</td>\n",
       "      <td>1667.000000</td>\n",
       "      <td>220.000000</td>\n",
       "      <td>8344.000000</td>\n",
       "      <td>0.310811</td>\n",
       "      <td>0.244517</td>\n",
       "      <td>0.277778</td>\n",
       "      <td>0.157233</td>\n",
       "      <td>15.000000</td>\n",
       "      <td>444.000000</td>\n",
       "    </tr>\n",
       "  </tbody>\n",
       "</table>\n",
       "</div>"
      ],
      "text/plain": [
       "       sum_sent_count  text_sent_count  sum_word_count  text_word_count  \\\n",
       "count    11529.000000     11529.000000    11529.000000     11529.000000   \n",
       "mean         1.035736        19.218666       21.241651       437.198630   \n",
       "std          0.203474        11.957447        4.753051       262.373004   \n",
       "min          1.000000         2.000000        8.000000        61.000000   \n",
       "25%          1.000000        11.000000       18.000000       246.000000   \n",
       "50%          1.000000        16.000000       21.000000       360.000000   \n",
       "75%          1.000000        24.000000       24.000000       574.000000   \n",
       "max          5.000000       113.000000       42.000000      1667.000000   \n",
       "\n",
       "       sum_char_count  text_char_count  sum_word_density  text_word_density  \\\n",
       "count    11529.000000     11529.000000      11529.000000       11529.000000   \n",
       "mean       105.640298      2158.596669          0.200129           0.202112   \n",
       "std         22.933391      1279.351023          0.022786           0.010113   \n",
       "min         43.000000       290.000000          0.125000           0.145057   \n",
       "25%         89.000000      1221.000000          0.184211           0.195243   \n",
       "50%        106.000000      1783.000000          0.200000           0.201726   \n",
       "75%        121.000000      2828.000000          0.214815           0.208381   \n",
       "max        220.000000      8344.000000          0.310811           0.244517   \n",
       "\n",
       "       sum_sent_density  text_sent_density  sum_punc_count  text_punc_count  \n",
       "count      11529.000000       11529.000000    11529.000000     11529.000000  \n",
       "mean           0.048507           0.044634        2.629109        72.849163  \n",
       "std            0.012770           0.007927        1.555699        46.497760  \n",
       "min            0.023810           0.003135        0.000000         4.000000  \n",
       "25%            0.040000           0.039301        1.000000        40.000000  \n",
       "50%            0.045455           0.043977        2.000000        60.000000  \n",
       "75%            0.055556           0.049296        3.000000        94.000000  \n",
       "max            0.277778           0.157233       15.000000       444.000000  "
      ]
     },
     "execution_count": 15,
     "metadata": {},
     "output_type": "execute_result"
    }
   ],
   "source": [
    "test_set.describe()"
   ]
  }
 ],
 "metadata": {
  "kernelspec": {
   "display_name": "Python 3",
   "language": "python",
   "name": "python3"
  },
  "language_info": {
   "codemirror_mode": {
    "name": "ipython",
    "version": 3
   },
   "file_extension": ".py",
   "mimetype": "text/x-python",
   "name": "python",
   "nbconvert_exporter": "python",
   "pygments_lexer": "ipython3",
   "version": "3.7.12"
  },
  "papermill": {
   "default_parameters": {},
   "duration": 241.538227,
   "end_time": "2022-10-31T23:00:06.477278",
   "environment_variables": {},
   "exception": null,
   "input_path": "__notebook__.ipynb",
   "output_path": "__notebook__.ipynb",
   "parameters": {},
   "start_time": "2022-10-31T22:56:04.939051",
   "version": "2.3.4"
  }
 },
 "nbformat": 4,
 "nbformat_minor": 5
}
