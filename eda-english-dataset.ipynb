{
 "cells": [
  {
   "cell_type": "code",
   "execution_count": 1,
   "id": "ffee4bbe",
   "metadata": {
    "execution": {
     "iopub.execute_input": "2022-10-28T18:36:29.477580Z",
     "iopub.status.busy": "2022-10-28T18:36:29.476174Z",
     "iopub.status.idle": "2022-10-28T18:36:29.487322Z",
     "shell.execute_reply": "2022-10-28T18:36:29.486434Z"
    },
    "papermill": {
     "duration": 0.018275,
     "end_time": "2022-10-28T18:36:29.489917",
     "exception": false,
     "start_time": "2022-10-28T18:36:29.471642",
     "status": "completed"
    },
    "tags": []
   },
   "outputs": [],
   "source": [
    "import pandas as pd"
   ]
  },
  {
   "cell_type": "code",
   "execution_count": 2,
   "id": "6f1a477c",
   "metadata": {
    "execution": {
     "iopub.execute_input": "2022-10-28T18:36:29.495406Z",
     "iopub.status.busy": "2022-10-28T18:36:29.494998Z",
     "iopub.status.idle": "2022-10-28T18:37:06.178902Z",
     "shell.execute_reply": "2022-10-28T18:37:06.177929Z"
    },
    "papermill": {
     "duration": 36.689163,
     "end_time": "2022-10-28T18:37:06.181278",
     "exception": false,
     "start_time": "2022-10-28T18:36:29.492115",
     "status": "completed"
    },
    "tags": []
   },
   "outputs": [],
   "source": [
    "train_set = pd.read_excel(\"../input/summerization/Competition CERIST -- Summarization/Dataset 2 Arabic + English (XL_sum)/English/dataset_XL_sum_v1.0_train_en.xlsx\")"
   ]
  },
  {
   "cell_type": "code",
   "execution_count": 3,
   "id": "fbe13f54",
   "metadata": {
    "execution": {
     "iopub.execute_input": "2022-10-28T18:37:06.186212Z",
     "iopub.status.busy": "2022-10-28T18:37:06.185845Z",
     "iopub.status.idle": "2022-10-28T18:37:06.267159Z",
     "shell.execute_reply": "2022-10-28T18:37:06.266248Z"
    },
    "papermill": {
     "duration": 0.086394,
     "end_time": "2022-10-28T18:37:06.269548",
     "exception": false,
     "start_time": "2022-10-28T18:37:06.183154",
     "status": "completed"
    },
    "tags": []
   },
   "outputs": [
    {
     "data": {
      "text/html": [
       "<div>\n",
       "<style scoped>\n",
       "    .dataframe tbody tr th:only-of-type {\n",
       "        vertical-align: middle;\n",
       "    }\n",
       "\n",
       "    .dataframe tbody tr th {\n",
       "        vertical-align: top;\n",
       "    }\n",
       "\n",
       "    .dataframe thead th {\n",
       "        text-align: right;\n",
       "    }\n",
       "</style>\n",
       "<table border=\"1\" class=\"dataframe\">\n",
       "  <thead>\n",
       "    <tr style=\"text-align: right;\">\n",
       "      <th></th>\n",
       "      <th>Document</th>\n",
       "      <th>Summary</th>\n",
       "    </tr>\n",
       "  </thead>\n",
       "  <tbody>\n",
       "    <tr>\n",
       "      <th>0</th>\n",
       "      <td>Atlantis Resources unveiled the marine energy ...</td>\n",
       "      <td>The massive tidal turbine AK1000 has been inst...</td>\n",
       "    </tr>\n",
       "    <tr>\n",
       "      <th>1</th>\n",
       "      <td>Police were called to the scene outside the Co...</td>\n",
       "      <td>A man has been stabbed in broad daylight outsi...</td>\n",
       "    </tr>\n",
       "    <tr>\n",
       "      <th>2</th>\n",
       "      <td>Anthony ZurcherNorth America reporter@awzurche...</td>\n",
       "      <td>It was inevitable that the fallout from the US...</td>\n",
       "    </tr>\n",
       "    <tr>\n",
       "      <th>3</th>\n",
       "      <td>By Debbie JacksonBBC Scotland But while most o...</td>\n",
       "      <td>Week four of social distancing is starting to ...</td>\n",
       "    </tr>\n",
       "    <tr>\n",
       "      <th>4</th>\n",
       "      <td>He was arrested on Saturday morning and is cur...</td>\n",
       "      <td>A 37-year-old man has been arrested as part an...</td>\n",
       "    </tr>\n",
       "    <tr>\n",
       "      <th>...</th>\n",
       "      <td>...</td>\n",
       "      <td>...</td>\n",
       "    </tr>\n",
       "    <tr>\n",
       "      <th>304763</th>\n",
       "      <td>He said it made him sad when many phones were ...</td>\n",
       "      <td>Pope Francis has chided the Catholic faithful ...</td>\n",
       "    </tr>\n",
       "    <tr>\n",
       "      <th>304764</th>\n",
       "      <td>By Flora Carmichael and Marianna SpringBBC Tre...</td>\n",
       "      <td>Coronavirus misinformation is flooding the int...</td>\n",
       "    </tr>\n",
       "    <tr>\n",
       "      <th>304765</th>\n",
       "      <td>By Flora Carmichael and Marianna SpringBBC Tre...</td>\n",
       "      <td>Coronavirus misinformation is flooding the int...</td>\n",
       "    </tr>\n",
       "    <tr>\n",
       "      <th>304766</th>\n",
       "      <td>The airline has operated a daily service to Ne...</td>\n",
       "      <td>American Airlines is pulling out of Birmingham...</td>\n",
       "    </tr>\n",
       "    <tr>\n",
       "      <th>304767</th>\n",
       "      <td>The first of two sites will open on Thursday m...</td>\n",
       "      <td>Dublin Airport is opening two coronavirus test...</td>\n",
       "    </tr>\n",
       "  </tbody>\n",
       "</table>\n",
       "<p>304768 rows × 2 columns</p>\n",
       "</div>"
      ],
      "text/plain": [
       "                                                 Document  \\\n",
       "0       Atlantis Resources unveiled the marine energy ...   \n",
       "1       Police were called to the scene outside the Co...   \n",
       "2       Anthony ZurcherNorth America reporter@awzurche...   \n",
       "3       By Debbie JacksonBBC Scotland But while most o...   \n",
       "4       He was arrested on Saturday morning and is cur...   \n",
       "...                                                   ...   \n",
       "304763  He said it made him sad when many phones were ...   \n",
       "304764  By Flora Carmichael and Marianna SpringBBC Tre...   \n",
       "304765  By Flora Carmichael and Marianna SpringBBC Tre...   \n",
       "304766  The airline has operated a daily service to Ne...   \n",
       "304767  The first of two sites will open on Thursday m...   \n",
       "\n",
       "                                                  Summary  \n",
       "0       The massive tidal turbine AK1000 has been inst...  \n",
       "1       A man has been stabbed in broad daylight outsi...  \n",
       "2       It was inevitable that the fallout from the US...  \n",
       "3       Week four of social distancing is starting to ...  \n",
       "4       A 37-year-old man has been arrested as part an...  \n",
       "...                                                   ...  \n",
       "304763  Pope Francis has chided the Catholic faithful ...  \n",
       "304764  Coronavirus misinformation is flooding the int...  \n",
       "304765  Coronavirus misinformation is flooding the int...  \n",
       "304766  American Airlines is pulling out of Birmingham...  \n",
       "304767  Dublin Airport is opening two coronavirus test...  \n",
       "\n",
       "[304768 rows x 2 columns]"
      ]
     },
     "execution_count": 3,
     "metadata": {},
     "output_type": "execute_result"
    }
   ],
   "source": [
    "train_set"
   ]
  },
  {
   "cell_type": "code",
   "execution_count": null,
   "id": "fb5ec038",
   "metadata": {
    "papermill": {
     "duration": 0.001802,
     "end_time": "2022-10-28T18:37:06.273452",
     "exception": false,
     "start_time": "2022-10-28T18:37:06.271650",
     "status": "completed"
    },
    "tags": []
   },
   "outputs": [],
   "source": []
  }
 ],
 "metadata": {
  "kernelspec": {
   "display_name": "Python 3",
   "language": "python",
   "name": "python3"
  },
  "language_info": {
   "codemirror_mode": {
    "name": "ipython",
    "version": 3
   },
   "file_extension": ".py",
   "mimetype": "text/x-python",
   "name": "python",
   "nbconvert_exporter": "python",
   "pygments_lexer": "ipython3",
   "version": "3.7.12"
  },
  "papermill": {
   "default_parameters": {},
   "duration": 45.566878,
   "end_time": "2022-10-28T18:37:07.197966",
   "environment_variables": {},
   "exception": null,
   "input_path": "__notebook__.ipynb",
   "output_path": "__notebook__.ipynb",
   "parameters": {},
   "start_time": "2022-10-28T18:36:21.631088",
   "version": "2.3.4"
  }
 },
 "nbformat": 4,
 "nbformat_minor": 5
}
